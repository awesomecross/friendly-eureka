{
  "cells": [
    {
      "cell_type": "markdown",
      "metadata": {
        "id": "6Wv74vULfCF6"
      },
      "source": [
        "# Alpaca-py crypto trading basic"
      ]
    },
    {
      "cell_type": "markdown",
      "metadata": {
        "id": "f2a3UZfafCF7"
      },
      "source": [
        "[![Open In Colab](https://colab.research.google.com/assets/colab-badge.svg)](https://colab.research.google.com/github/alpacahq/alpaca-py/blob/master/examples/crypto/crypto-trading-basic.ipynb)"
      ]
    },
    {
      "cell_type": "markdown",
      "metadata": {
        "id": "h4tT_9wkfCF8"
      },
      "source": [
        "- This notebook shows how to use alpaca-py with crypto trading API endpoints\n",
        "- Please use ``paper account``. Please ``DO NOT`` use this notebook with live account. In this notebook, we place orders for crypto as an example."
      ]
    },
    {
      "cell_type": "code",
      "execution_count": 2,
      "metadata": {
        "id": "EzGxuDibfCF8"
      },
      "outputs": [],
      "source": [
        "# Please change the following to your own PAPER api key and secret\n",
        "# or set them as environment variables (ALPACA_API_KEY, ALPACA_SECRET_KEY).\n",
        "# You can get them from https://alpaca.markets/\n",
        "\n",
        "api_key = \"PKZ6OE5X5FKXAIMI074K\"\n",
        "secret_key = \"L9XgpUXmWBP1kNHnsGkxj2IprbQUIBdtn5guROkD\"\n",
        "\n",
        "\n",
        "#### We use paper environment for this example ####\n",
        "paper = True # Please do not modify this. This example is for paper trading only.\n",
        "####\n",
        "\n",
        "# Below are the variables for development this documents\n",
        "# Please do not change these variables\n",
        "trade_api_url = None\n",
        "trade_api_wss = None\n",
        "data_api_url = None\n",
        "stream_data_wss = None"
      ]
    },
    {
      "cell_type": "code",
      "execution_count": 3,
      "metadata": {
        "id": "dEQCOqKyfCF8"
      },
      "outputs": [],
      "source": [
        "import os\n",
        "\n",
        "if api_key is None:\n",
        "    api_key = os.environ.get('ALPACA_API_KEY')\n",
        "\n",
        "if secret_key is None:\n",
        "    secret_key = os.environ.get('ALPACA_SECRET_KEY')"
      ]
    },
    {
      "cell_type": "code",
      "execution_count": 4,
      "metadata": {
        "id": "9by4zq3WfCF9",
        "outputId": "e835eabf-2631-4650-a464-a72d037a42b0",
        "colab": {
          "base_uri": "https://localhost:8080/"
        }
      },
      "outputs": [
        {
          "output_type": "stream",
          "name": "stdout",
          "text": [
            "Collecting alpaca-py\n",
            "  Downloading alpaca_py-0.42.0-py3-none-any.whl.metadata (13 kB)\n",
            "Requirement already satisfied: msgpack<2.0.0,>=1.0.3 in /usr/local/lib/python3.11/dist-packages (from alpaca-py) (1.1.1)\n",
            "Requirement already satisfied: pandas>=1.5.3 in /usr/local/lib/python3.11/dist-packages (from alpaca-py) (2.2.2)\n",
            "Requirement already satisfied: pydantic<3.0.0,>=2.0.3 in /usr/local/lib/python3.11/dist-packages (from alpaca-py) (2.11.7)\n",
            "Requirement already satisfied: requests<3.0.0,>=2.30.0 in /usr/local/lib/python3.11/dist-packages (from alpaca-py) (2.32.3)\n",
            "Collecting sseclient-py<2.0.0,>=1.7.2 (from alpaca-py)\n",
            "  Downloading sseclient_py-1.8.0-py2.py3-none-any.whl.metadata (2.0 kB)\n",
            "Requirement already satisfied: websockets>=10.4 in /usr/local/lib/python3.11/dist-packages (from alpaca-py) (15.0.1)\n",
            "Requirement already satisfied: numpy>=1.23.2 in /usr/local/lib/python3.11/dist-packages (from pandas>=1.5.3->alpaca-py) (2.0.2)\n",
            "Requirement already satisfied: python-dateutil>=2.8.2 in /usr/local/lib/python3.11/dist-packages (from pandas>=1.5.3->alpaca-py) (2.9.0.post0)\n",
            "Requirement already satisfied: pytz>=2020.1 in /usr/local/lib/python3.11/dist-packages (from pandas>=1.5.3->alpaca-py) (2025.2)\n",
            "Requirement already satisfied: tzdata>=2022.7 in /usr/local/lib/python3.11/dist-packages (from pandas>=1.5.3->alpaca-py) (2025.2)\n",
            "Requirement already satisfied: annotated-types>=0.6.0 in /usr/local/lib/python3.11/dist-packages (from pydantic<3.0.0,>=2.0.3->alpaca-py) (0.7.0)\n",
            "Requirement already satisfied: pydantic-core==2.33.2 in /usr/local/lib/python3.11/dist-packages (from pydantic<3.0.0,>=2.0.3->alpaca-py) (2.33.2)\n",
            "Requirement already satisfied: typing-extensions>=4.12.2 in /usr/local/lib/python3.11/dist-packages (from pydantic<3.0.0,>=2.0.3->alpaca-py) (4.14.1)\n",
            "Requirement already satisfied: typing-inspection>=0.4.0 in /usr/local/lib/python3.11/dist-packages (from pydantic<3.0.0,>=2.0.3->alpaca-py) (0.4.1)\n",
            "Requirement already satisfied: charset-normalizer<4,>=2 in /usr/local/lib/python3.11/dist-packages (from requests<3.0.0,>=2.30.0->alpaca-py) (3.4.2)\n",
            "Requirement already satisfied: idna<4,>=2.5 in /usr/local/lib/python3.11/dist-packages (from requests<3.0.0,>=2.30.0->alpaca-py) (3.10)\n",
            "Requirement already satisfied: urllib3<3,>=1.21.1 in /usr/local/lib/python3.11/dist-packages (from requests<3.0.0,>=2.30.0->alpaca-py) (2.5.0)\n",
            "Requirement already satisfied: certifi>=2017.4.17 in /usr/local/lib/python3.11/dist-packages (from requests<3.0.0,>=2.30.0->alpaca-py) (2025.7.14)\n",
            "Requirement already satisfied: six>=1.5 in /usr/local/lib/python3.11/dist-packages (from python-dateutil>=2.8.2->pandas>=1.5.3->alpaca-py) (1.17.0)\n",
            "Downloading alpaca_py-0.42.0-py3-none-any.whl (121 kB)\n",
            "\u001b[2K   \u001b[90m━━━━━━━━━━━━━━━━━━━━━━━━━━━━━━━━━━━━━━━━\u001b[0m \u001b[32m122.0/122.0 kB\u001b[0m \u001b[31m2.8 MB/s\u001b[0m eta \u001b[36m0:00:00\u001b[0m\n",
            "\u001b[?25hDownloading sseclient_py-1.8.0-py2.py3-none-any.whl (8.8 kB)\n",
            "Installing collected packages: sseclient-py, alpaca-py\n",
            "Successfully installed alpaca-py-0.42.0 sseclient-py-1.8.0\n"
          ]
        }
      ],
      "source": [
        "# install alpaca-py if it is not available\n",
        "try:\n",
        "    import alpaca\n",
        "except ImportError:\n",
        "    !python3 -m pip install alpaca-py\n",
        "    import alpaca"
      ]
    },
    {
      "cell_type": "code",
      "execution_count": 5,
      "metadata": {
        "id": "jHCOCuu4fCF9"
      },
      "outputs": [],
      "source": [
        "import json\n",
        "from datetime import datetime, timedelta\n",
        "from zoneinfo import ZoneInfo\n",
        "\n",
        "from alpaca.trading.client import TradingClient\n",
        "from alpaca.data.timeframe import TimeFrame, TimeFrameUnit\n",
        "from alpaca.data.historical.crypto import CryptoHistoricalDataClient\n",
        "from alpaca.trading.stream import TradingStream\n",
        "from alpaca.data.live.crypto import CryptoDataStream\n",
        "\n",
        "from alpaca.data.requests import (\n",
        "    CryptoBarsRequest,\n",
        "    CryptoQuoteRequest,\n",
        "    CryptoTradesRequest,\n",
        "    CryptoLatestQuoteRequest\n",
        "    )\n",
        "from alpaca.trading.requests import (\n",
        "    GetAssetsRequest,\n",
        "    MarketOrderRequest,\n",
        "    LimitOrderRequest,\n",
        "    StopLimitOrderRequest,\n",
        "    GetOrdersRequest,\n",
        "    ClosePositionRequest\n",
        ")\n",
        "from alpaca.trading.enums import (\n",
        "    AssetClass,\n",
        "    AssetStatus,\n",
        "    OrderSide,\n",
        "    OrderType,\n",
        "    TimeInForce,\n",
        "    QueryOrderStatus\n",
        ")\n",
        "from alpaca.common.exceptions import APIError"
      ]
    },
    {
      "cell_type": "code",
      "execution_count": 6,
      "metadata": {
        "id": "rsQ4OVVyfCF9"
      },
      "outputs": [],
      "source": [
        "# to run async code in jupyter notebook\n",
        "import nest_asyncio\n",
        "nest_asyncio.apply()"
      ]
    },
    {
      "cell_type": "code",
      "execution_count": 7,
      "metadata": {
        "id": "heQeKHyKfCF9",
        "outputId": "fec01182-4257-4bc2-afac-096d33f1d33d",
        "colab": {
          "base_uri": "https://localhost:8080/",
          "height": 35
        }
      },
      "outputs": [
        {
          "output_type": "execute_result",
          "data": {
            "text/plain": [
              "'0.42.0'"
            ],
            "application/vnd.google.colaboratory.intrinsic+json": {
              "type": "string"
            }
          },
          "metadata": {},
          "execution_count": 7
        }
      ],
      "source": [
        "# check version of alpaca-py\n",
        "alpaca.__version__"
      ]
    },
    {
      "cell_type": "markdown",
      "metadata": {
        "id": "oyNNZlk1fCF9"
      },
      "source": [
        "# Trading Client"
      ]
    },
    {
      "cell_type": "code",
      "execution_count": 8,
      "metadata": {
        "id": "ALs-yS-_fCF9"
      },
      "outputs": [],
      "source": [
        "# setup clients\n",
        "trade_client = TradingClient(api_key=api_key, secret_key=secret_key, paper=paper, url_override=trade_api_url)"
      ]
    },
    {
      "cell_type": "code",
      "execution_count": 9,
      "metadata": {
        "id": "b9louYKwfCF-",
        "outputId": "a596fbf8-570a-46b5-9df7-1a12163c40d9",
        "colab": {
          "base_uri": "https://localhost:8080/"
        }
      },
      "outputs": [
        {
          "output_type": "execute_result",
          "data": {
            "text/plain": [
              "{   'account_blocked': False,\n",
              "    'account_number': 'PA3E13RVWB2Y',\n",
              "    'accrued_fees': '0',\n",
              "    'buying_power': '200000',\n",
              "    'cash': '100000',\n",
              "    'created_at': datetime.datetime(2025, 7, 31, 17, 6, 26, 676102, tzinfo=TzInfo(UTC)),\n",
              "    'crypto_status': <AccountStatus.ACTIVE: 'ACTIVE'>,\n",
              "    'currency': 'USD',\n",
              "    'daytrade_count': 0,\n",
              "    'daytrading_buying_power': '0',\n",
              "    'equity': '100000',\n",
              "    'id': UUID('da64c3c5-75a0-41df-baa8-748fb040e787'),\n",
              "    'initial_margin': '0',\n",
              "    'last_equity': '100000',\n",
              "    'last_maintenance_margin': '0',\n",
              "    'long_market_value': '0',\n",
              "    'maintenance_margin': '0',\n",
              "    'multiplier': '2',\n",
              "    'non_marginable_buying_power': '100000',\n",
              "    'options_approved_level': 3,\n",
              "    'options_buying_power': '100000',\n",
              "    'options_trading_level': 3,\n",
              "    'pattern_day_trader': False,\n",
              "    'pending_transfer_in': None,\n",
              "    'pending_transfer_out': None,\n",
              "    'portfolio_value': '100000',\n",
              "    'regt_buying_power': '200000',\n",
              "    'short_market_value': '0',\n",
              "    'shorting_enabled': True,\n",
              "    'sma': '0',\n",
              "    'status': <AccountStatus.ACTIVE: 'ACTIVE'>,\n",
              "    'trade_suspended_by_user': False,\n",
              "    'trading_blocked': False,\n",
              "    'transfers_blocked': False}"
            ]
          },
          "metadata": {},
          "execution_count": 9
        }
      ],
      "source": [
        "# check trading account\n",
        "# You can check definition of each field in the following documents\n",
        "# ref. https://docs.alpaca.markets/docs/account-plans\n",
        "# ref. https://docs.alpaca.markets/reference/getaccount-1\n",
        "acct = trade_client.get_account()\n",
        "acct"
      ]
    },
    {
      "cell_type": "code",
      "execution_count": 10,
      "metadata": {
        "id": "g41oZBsafCF-",
        "outputId": "d4f3dbb8-4dd5-4835-e374-774ba0b10b35",
        "colab": {
          "base_uri": "https://localhost:8080/"
        }
      },
      "outputs": [
        {
          "output_type": "execute_result",
          "data": {
            "text/plain": [
              "{   'dtbp_check': <DTBPCheck.ENTRY: 'entry'>,\n",
              "    'fractional_trading': True,\n",
              "    'max_margin_multiplier': '4',\n",
              "    'max_options_trading_level': None,\n",
              "    'no_shorting': False,\n",
              "    'pdt_check': <PDTCheck.ENTRY: 'entry'>,\n",
              "    'ptp_no_exception_entry': False,\n",
              "    'suspend_trade': False,\n",
              "    'trade_confirm_email': <TradeConfirmationEmail.ALL: 'all'>}"
            ]
          },
          "metadata": {},
          "execution_count": 10
        }
      ],
      "source": [
        "# check account configuration\n",
        "# ref. https://docs.alpaca.markets/reference/getaccountconfig-1\n",
        "acct_config = trade_client.get_account_configurations()\n",
        "acct_config"
      ]
    },
    {
      "cell_type": "code",
      "execution_count": 11,
      "metadata": {
        "id": "iMSL2GzqfCF-",
        "outputId": "d5d6a278-13fc-4699-f7b7-a8f379ceb43b",
        "colab": {
          "base_uri": "https://localhost:8080/"
        }
      },
      "outputs": [
        {
          "output_type": "execute_result",
          "data": {
            "text/plain": [
              "[{   'asset_class': <AssetClass.CRYPTO: 'crypto'>,\n",
              "     'attributes': [],\n",
              "     'easy_to_borrow': False,\n",
              "     'exchange': <AssetExchange.CRYPTO: 'CRYPTO'>,\n",
              "     'fractionable': True,\n",
              "     'id': UUID('34bfd447-3a3f-4d03-b3f7-3bbbfd57c6ab'),\n",
              "     'maintenance_margin_requirement': 100.0,\n",
              "     'marginable': False,\n",
              "     'min_order_size': 1.201894185,\n",
              "     'min_trade_increment': 1e-09,\n",
              "     'name': 'SushiSwap / USD Coin',\n",
              "     'price_increment': 0.0001,\n",
              "     'shortable': False,\n",
              "     'status': <AssetStatus.ACTIVE: 'active'>,\n",
              "     'symbol': 'SUSHI/USDC',\n",
              "     'tradable': True},\n",
              " {   'asset_class': <AssetClass.CRYPTO: 'crypto'>,\n",
              "     'attributes': ['fractional_eh_enabled'],\n",
              "     'easy_to_borrow': False,\n",
              "     'exchange': <AssetExchange.CRYPTO: 'CRYPTO'>,\n",
              "     'fractionable': True,\n",
              "     'id': UUID('c25f5c78-25c3-4179-875b-b61e16ec8dcc'),\n",
              "     'maintenance_margin_requirement': 100.0,\n",
              "     'marginable': False,\n",
              "     'min_order_size': 0.005306109,\n",
              "     'min_trade_increment': 1e-09,\n",
              "     'name': 'Solana/USD Coin',\n",
              "     'price_increment': 0.0001,\n",
              "     'shortable': False,\n",
              "     'status': <AssetStatus.ACTIVE: 'active'>,\n",
              "     'symbol': 'SOL/USDC',\n",
              "     'tradable': True}]"
            ]
          },
          "metadata": {},
          "execution_count": 11
        }
      ],
      "source": [
        "# get list of crypto pairs\n",
        "# ref. https://docs.alpaca.markets/reference/get-v2-assets-1\n",
        "req = GetAssetsRequest(\n",
        "  asset_class=AssetClass.CRYPTO,\n",
        "  status=AssetStatus.ACTIVE\n",
        ")\n",
        "assets = trade_client.get_all_assets(req)\n",
        "assets[:2]"
      ]
    },
    {
      "cell_type": "markdown",
      "metadata": {
        "id": "WrJzGbrPfCF-"
      },
      "source": [
        "### Orders"
      ]
    },
    {
      "cell_type": "code",
      "execution_count": 12,
      "metadata": {
        "id": "PXJR8BdmfCF-"
      },
      "outputs": [],
      "source": [
        "# we will place orders which Alapca trading platform supports\n",
        "# - order types for crypto: market, limit, stop_limit\n",
        "# - time_in_force for crypto: gtc, ioc.\n",
        "# please refer to the following documents for more details\n",
        "# ref. https://docs.alpaca.markets/docs/orders-at-alpaca\n",
        "# ref. https://docs.alpaca.markets/reference/postorder\n",
        "\n",
        "\n",
        "# we will place orders for symbol: BTC/USD in this example\n",
        "symbol = \"BTC/USD\""
      ]
    },
    {
      "cell_type": "code",
      "execution_count": 15,
      "metadata": {
        "id": "bUHrk7yMfCF-",
        "outputId": "fd9416b3-3339-4a69-b133-53324dad70ac",
        "colab": {
          "base_uri": "https://localhost:8080/"
        }
      },
      "outputs": [
        {
          "output_type": "execute_result",
          "data": {
            "text/plain": [
              "{   'asset_class': <AssetClass.CRYPTO: 'crypto'>,\n",
              "    'asset_id': UUID('276e2673-764b-4ab6-a611-caf665ca6340'),\n",
              "    'canceled_at': None,\n",
              "    'client_order_id': 'e54bcac3-b4eb-4fc7-9477-a766738a9e3a',\n",
              "    'created_at': datetime.datetime(2025, 7, 31, 17, 20, 55, 418915, tzinfo=TzInfo(UTC)),\n",
              "    'expired_at': None,\n",
              "    'expires_at': datetime.datetime(2025, 10, 29, 20, 0, tzinfo=TzInfo(UTC)),\n",
              "    'extended_hours': False,\n",
              "    'failed_at': None,\n",
              "    'filled_at': None,\n",
              "    'filled_avg_price': None,\n",
              "    'filled_qty': '0',\n",
              "    'hwm': None,\n",
              "    'id': UUID('44a7c637-a937-4764-a94b-73687ee98b8f'),\n",
              "    'legs': None,\n",
              "    'limit_price': None,\n",
              "    'notional': None,\n",
              "    'order_class': <OrderClass.SIMPLE: 'simple'>,\n",
              "    'order_type': <OrderType.MARKET: 'market'>,\n",
              "    'position_intent': <PositionIntent.BUY_TO_OPEN: 'buy_to_open'>,\n",
              "    'qty': '0.01',\n",
              "    'ratio_qty': None,\n",
              "    'replaced_at': None,\n",
              "    'replaced_by': None,\n",
              "    'replaces': None,\n",
              "    'side': <OrderSide.BUY: 'buy'>,\n",
              "    'status': <OrderStatus.PENDING_NEW: 'pending_new'>,\n",
              "    'stop_price': None,\n",
              "    'submitted_at': datetime.datetime(2025, 7, 31, 17, 20, 55, 418915, tzinfo=TzInfo(UTC)),\n",
              "    'symbol': 'BTC/USD',\n",
              "    'time_in_force': <TimeInForce.GTC: 'gtc'>,\n",
              "    'trail_percent': None,\n",
              "    'trail_price': None,\n",
              "    'type': <OrderType.MARKET: 'market'>,\n",
              "    'updated_at': datetime.datetime(2025, 7, 31, 17, 20, 55, 419798, tzinfo=TzInfo(UTC))}"
            ]
          },
          "metadata": {},
          "execution_count": 15
        }
      ],
      "source": [
        "# simple, market order\n",
        "# you can specify:\n",
        "# or notional value (e.g. 100 USD) (which is in the next example)\n",
        "req = MarketOrderRequest(\n",
        "    symbol = symbol,\n",
        "    qty = 0.01,\n",
        "    side = OrderSide.BUY,\n",
        "    type = OrderType.MARKET,\n",
        "    time_in_force = TimeInForce.GTC,\n",
        ")\n",
        "res = trade_client.submit_order(req)\n",
        "res"
      ]
    },
    {
      "cell_type": "code",
      "execution_count": 14,
      "metadata": {
        "id": "mUnmJ0jzfCF-",
        "outputId": "12748dc4-3b8e-4f74-f53e-1ea0420f26e8",
        "colab": {
          "base_uri": "https://localhost:8080/",
          "height": 416
        }
      },
      "outputs": [
        {
          "output_type": "error",
          "ename": "APIError",
          "evalue": "{\"code\":40310000,\"message\":\"cost basis must be \\u003e= minimal amount of order 10\"}",
          "traceback": [
            "\u001b[0;31m---------------------------------------------------------------------------\u001b[0m",
            "\u001b[0;31mHTTPError\u001b[0m                                 Traceback (most recent call last)",
            "\u001b[0;32m/usr/local/lib/python3.11/dist-packages/alpaca/common/rest.py\u001b[0m in \u001b[0;36m_one_request\u001b[0;34m(self, method, url, opts, retry)\u001b[0m\n\u001b[1;32m    197\u001b[0m         \u001b[0;32mtry\u001b[0m\u001b[0;34m:\u001b[0m\u001b[0;34m\u001b[0m\u001b[0;34m\u001b[0m\u001b[0m\n\u001b[0;32m--> 198\u001b[0;31m             \u001b[0mresponse\u001b[0m\u001b[0;34m.\u001b[0m\u001b[0mraise_for_status\u001b[0m\u001b[0;34m(\u001b[0m\u001b[0;34m)\u001b[0m\u001b[0;34m\u001b[0m\u001b[0;34m\u001b[0m\u001b[0m\n\u001b[0m\u001b[1;32m    199\u001b[0m         \u001b[0;32mexcept\u001b[0m \u001b[0mHTTPError\u001b[0m \u001b[0;32mas\u001b[0m \u001b[0mhttp_error\u001b[0m\u001b[0;34m:\u001b[0m\u001b[0;34m\u001b[0m\u001b[0;34m\u001b[0m\u001b[0m\n",
            "\u001b[0;32m/usr/local/lib/python3.11/dist-packages/requests/models.py\u001b[0m in \u001b[0;36mraise_for_status\u001b[0;34m(self)\u001b[0m\n\u001b[1;32m   1023\u001b[0m         \u001b[0;32mif\u001b[0m \u001b[0mhttp_error_msg\u001b[0m\u001b[0;34m:\u001b[0m\u001b[0;34m\u001b[0m\u001b[0;34m\u001b[0m\u001b[0m\n\u001b[0;32m-> 1024\u001b[0;31m             \u001b[0;32mraise\u001b[0m \u001b[0mHTTPError\u001b[0m\u001b[0;34m(\u001b[0m\u001b[0mhttp_error_msg\u001b[0m\u001b[0;34m,\u001b[0m \u001b[0mresponse\u001b[0m\u001b[0;34m=\u001b[0m\u001b[0mself\u001b[0m\u001b[0;34m)\u001b[0m\u001b[0;34m\u001b[0m\u001b[0;34m\u001b[0m\u001b[0m\n\u001b[0m\u001b[1;32m   1025\u001b[0m \u001b[0;34m\u001b[0m\u001b[0m\n",
            "\u001b[0;31mHTTPError\u001b[0m: 403 Client Error: Forbidden for url: https://paper-api.alpaca.markets/v2/orders",
            "\nDuring handling of the above exception, another exception occurred:\n",
            "\u001b[0;31mAPIError\u001b[0m                                  Traceback (most recent call last)",
            "\u001b[0;32m/tmp/ipython-input-4097957997.py\u001b[0m in \u001b[0;36m<cell line: 0>\u001b[0;34m()\u001b[0m\n\u001b[1;32m      8\u001b[0m     \u001b[0mtime_in_force\u001b[0m \u001b[0;34m=\u001b[0m \u001b[0mTimeInForce\u001b[0m\u001b[0;34m.\u001b[0m\u001b[0mGTC\u001b[0m\u001b[0;34m,\u001b[0m\u001b[0;34m\u001b[0m\u001b[0;34m\u001b[0m\u001b[0m\n\u001b[1;32m      9\u001b[0m )\n\u001b[0;32m---> 10\u001b[0;31m \u001b[0mres\u001b[0m \u001b[0;34m=\u001b[0m \u001b[0mtrade_client\u001b[0m\u001b[0;34m.\u001b[0m\u001b[0msubmit_order\u001b[0m\u001b[0;34m(\u001b[0m\u001b[0mreq\u001b[0m\u001b[0;34m)\u001b[0m\u001b[0;34m\u001b[0m\u001b[0;34m\u001b[0m\u001b[0m\n\u001b[0m\u001b[1;32m     11\u001b[0m \u001b[0mres\u001b[0m\u001b[0;34m\u001b[0m\u001b[0;34m\u001b[0m\u001b[0m\n",
            "\u001b[0;32m/usr/local/lib/python3.11/dist-packages/alpaca/trading/client.py\u001b[0m in \u001b[0;36msubmit_order\u001b[0;34m(self, order_data)\u001b[0m\n\u001b[1;32m     98\u001b[0m         \"\"\"\n\u001b[1;32m     99\u001b[0m         \u001b[0mdata\u001b[0m \u001b[0;34m=\u001b[0m \u001b[0morder_data\u001b[0m\u001b[0;34m.\u001b[0m\u001b[0mto_request_fields\u001b[0m\u001b[0;34m(\u001b[0m\u001b[0;34m)\u001b[0m\u001b[0;34m\u001b[0m\u001b[0;34m\u001b[0m\u001b[0m\n\u001b[0;32m--> 100\u001b[0;31m         \u001b[0mresponse\u001b[0m \u001b[0;34m=\u001b[0m \u001b[0mself\u001b[0m\u001b[0;34m.\u001b[0m\u001b[0mpost\u001b[0m\u001b[0;34m(\u001b[0m\u001b[0;34m\"/orders\"\u001b[0m\u001b[0;34m,\u001b[0m \u001b[0mdata\u001b[0m\u001b[0;34m)\u001b[0m\u001b[0;34m\u001b[0m\u001b[0;34m\u001b[0m\u001b[0m\n\u001b[0m\u001b[1;32m    101\u001b[0m \u001b[0;34m\u001b[0m\u001b[0m\n\u001b[1;32m    102\u001b[0m         \u001b[0;32mif\u001b[0m \u001b[0mself\u001b[0m\u001b[0;34m.\u001b[0m\u001b[0m_use_raw_data\u001b[0m\u001b[0;34m:\u001b[0m\u001b[0;34m\u001b[0m\u001b[0;34m\u001b[0m\u001b[0m\n",
            "\u001b[0;32m/usr/local/lib/python3.11/dist-packages/alpaca/common/rest.py\u001b[0m in \u001b[0;36mpost\u001b[0;34m(self, path, data)\u001b[0m\n\u001b[1;32m    238\u001b[0m             \u001b[0mdict\u001b[0m\u001b[0;34m:\u001b[0m \u001b[0mThe\u001b[0m \u001b[0mresponse\u001b[0m\u001b[0;34m\u001b[0m\u001b[0;34m\u001b[0m\u001b[0m\n\u001b[1;32m    239\u001b[0m         \"\"\"\n\u001b[0;32m--> 240\u001b[0;31m         \u001b[0;32mreturn\u001b[0m \u001b[0mself\u001b[0m\u001b[0;34m.\u001b[0m\u001b[0m_request\u001b[0m\u001b[0;34m(\u001b[0m\u001b[0;34m\"POST\"\u001b[0m\u001b[0;34m,\u001b[0m \u001b[0mpath\u001b[0m\u001b[0;34m,\u001b[0m \u001b[0mdata\u001b[0m\u001b[0;34m)\u001b[0m\u001b[0;34m\u001b[0m\u001b[0;34m\u001b[0m\u001b[0m\n\u001b[0m\u001b[1;32m    241\u001b[0m \u001b[0;34m\u001b[0m\u001b[0m\n\u001b[1;32m    242\u001b[0m     \u001b[0;32mdef\u001b[0m \u001b[0mput\u001b[0m\u001b[0;34m(\u001b[0m\u001b[0mself\u001b[0m\u001b[0;34m,\u001b[0m \u001b[0mpath\u001b[0m\u001b[0;34m:\u001b[0m \u001b[0mstr\u001b[0m\u001b[0;34m,\u001b[0m \u001b[0mdata\u001b[0m\u001b[0;34m:\u001b[0m \u001b[0mOptional\u001b[0m\u001b[0;34m[\u001b[0m\u001b[0mdict\u001b[0m\u001b[0;34m]\u001b[0m \u001b[0;34m=\u001b[0m \u001b[0;32mNone\u001b[0m\u001b[0;34m)\u001b[0m \u001b[0;34m->\u001b[0m \u001b[0mdict\u001b[0m\u001b[0;34m:\u001b[0m\u001b[0;34m\u001b[0m\u001b[0;34m\u001b[0m\u001b[0m\n",
            "\u001b[0;32m/usr/local/lib/python3.11/dist-packages/alpaca/common/rest.py\u001b[0m in \u001b[0;36m_request\u001b[0;34m(self, method, path, data, base_url, api_version)\u001b[0m\n\u001b[1;32m    129\u001b[0m         \u001b[0;32mwhile\u001b[0m \u001b[0mretry\u001b[0m \u001b[0;34m>=\u001b[0m \u001b[0;36m0\u001b[0m\u001b[0;34m:\u001b[0m\u001b[0;34m\u001b[0m\u001b[0;34m\u001b[0m\u001b[0m\n\u001b[1;32m    130\u001b[0m             \u001b[0;32mtry\u001b[0m\u001b[0;34m:\u001b[0m\u001b[0;34m\u001b[0m\u001b[0;34m\u001b[0m\u001b[0m\n\u001b[0;32m--> 131\u001b[0;31m                 \u001b[0;32mreturn\u001b[0m \u001b[0mself\u001b[0m\u001b[0;34m.\u001b[0m\u001b[0m_one_request\u001b[0m\u001b[0;34m(\u001b[0m\u001b[0mmethod\u001b[0m\u001b[0;34m,\u001b[0m \u001b[0murl\u001b[0m\u001b[0;34m,\u001b[0m \u001b[0mopts\u001b[0m\u001b[0;34m,\u001b[0m \u001b[0mretry\u001b[0m\u001b[0;34m)\u001b[0m\u001b[0;34m\u001b[0m\u001b[0;34m\u001b[0m\u001b[0m\n\u001b[0m\u001b[1;32m    132\u001b[0m             \u001b[0;32mexcept\u001b[0m \u001b[0mRetryException\u001b[0m\u001b[0;34m:\u001b[0m\u001b[0;34m\u001b[0m\u001b[0;34m\u001b[0m\u001b[0m\n\u001b[1;32m    133\u001b[0m                 \u001b[0mtime\u001b[0m\u001b[0;34m.\u001b[0m\u001b[0msleep\u001b[0m\u001b[0;34m(\u001b[0m\u001b[0mself\u001b[0m\u001b[0;34m.\u001b[0m\u001b[0m_retry_wait\u001b[0m\u001b[0;34m)\u001b[0m\u001b[0;34m\u001b[0m\u001b[0;34m\u001b[0m\u001b[0m\n",
            "\u001b[0;32m/usr/local/lib/python3.11/dist-packages/alpaca/common/rest.py\u001b[0m in \u001b[0;36m_one_request\u001b[0;34m(self, method, url, opts, retry)\u001b[0m\n\u001b[1;32m    205\u001b[0m             \u001b[0merror\u001b[0m \u001b[0;34m=\u001b[0m \u001b[0mresponse\u001b[0m\u001b[0;34m.\u001b[0m\u001b[0mtext\u001b[0m\u001b[0;34m\u001b[0m\u001b[0;34m\u001b[0m\u001b[0m\n\u001b[1;32m    206\u001b[0m \u001b[0;34m\u001b[0m\u001b[0m\n\u001b[0;32m--> 207\u001b[0;31m             \u001b[0;32mraise\u001b[0m \u001b[0mAPIError\u001b[0m\u001b[0;34m(\u001b[0m\u001b[0merror\u001b[0m\u001b[0;34m,\u001b[0m \u001b[0mhttp_error\u001b[0m\u001b[0;34m)\u001b[0m\u001b[0;34m\u001b[0m\u001b[0;34m\u001b[0m\u001b[0m\n\u001b[0m\u001b[1;32m    208\u001b[0m \u001b[0;34m\u001b[0m\u001b[0m\n\u001b[1;32m    209\u001b[0m         \u001b[0;32mif\u001b[0m \u001b[0mresponse\u001b[0m\u001b[0;34m.\u001b[0m\u001b[0mtext\u001b[0m \u001b[0;34m!=\u001b[0m \u001b[0;34m\"\"\u001b[0m\u001b[0;34m:\u001b[0m\u001b[0;34m\u001b[0m\u001b[0;34m\u001b[0m\u001b[0m\n",
            "\u001b[0;31mAPIError\u001b[0m: {\"code\":40310000,\"message\":\"cost basis must be \\u003e= minimal amount of order 10\"}"
          ]
        }
      ],
      "source": [
        "# simple, market order, notional\n",
        "\n",
        "req = MarketOrderRequest(\n",
        "    symbol = symbol,\n",
        "    notional = 1.11,  # notional is specified in USD, here we specify $1.11\n",
        "    side = OrderSide.BUY,\n",
        "    type = OrderType.MARKET,\n",
        "    time_in_force = TimeInForce.GTC,\n",
        ")\n",
        "res = trade_client.submit_order(req)\n",
        "res"
      ]
    },
    {
      "cell_type": "code",
      "execution_count": null,
      "metadata": {
        "id": "MUi7ujFSfCF-"
      },
      "outputs": [],
      "source": [
        "# simple, limit order\n",
        "req = LimitOrderRequest(\n",
        "    symbol = symbol,\n",
        "    qty = 0.01,\n",
        "    limit_price = 60000,\n",
        "    side = OrderSide.BUY,\n",
        "    type = OrderType.LIMIT,\n",
        "    time_in_force = TimeInForce.GTC,\n",
        ")\n",
        "res = trade_client.submit_order(req)\n",
        "res"
      ]
    },
    {
      "cell_type": "code",
      "execution_count": null,
      "metadata": {
        "id": "zsjvDewSfCF-"
      },
      "outputs": [],
      "source": [
        "# stop limit order\n",
        "req = StopLimitOrderRequest(\n",
        "                    symbol = symbol,\n",
        "                    qty = 0.01,\n",
        "                    side = OrderSide.BUY,\n",
        "                    time_in_force = TimeInForce.GTC,\n",
        "                    limit_price = 55000,\n",
        "                    stop_price = 60000\n",
        "                    )\n",
        "\n",
        "res = trade_client.submit_order(req)\n",
        "res"
      ]
    },
    {
      "cell_type": "code",
      "execution_count": null,
      "metadata": {
        "id": "Kiu0OF9sfCF-"
      },
      "outputs": [],
      "source": [
        "# get a list of orders including closed (e.g. filled) orders by specifying symbol\n",
        "req = GetOrdersRequest(\n",
        "    status = QueryOrderStatus.ALL,\n",
        "    symbols = [symbol]\n",
        ")\n",
        "orders = trade_client.get_orders(req)\n",
        "orders"
      ]
    },
    {
      "cell_type": "code",
      "execution_count": null,
      "metadata": {
        "id": "pIDILR97fCF-"
      },
      "outputs": [],
      "source": [
        "# see all open orders\n",
        "req = GetOrdersRequest(\n",
        "    status = QueryOrderStatus.OPEN,\n",
        "    symbols = [symbol]\n",
        ")\n",
        "open_orders = trade_client.get_orders(req)\n",
        "open_orders"
      ]
    },
    {
      "cell_type": "code",
      "execution_count": null,
      "metadata": {
        "id": "lymppKiWfCF-"
      },
      "outputs": [],
      "source": [
        "# cancel all open orders\n",
        "trade_client.cancel_orders()"
      ]
    },
    {
      "cell_type": "markdown",
      "metadata": {
        "id": "yXv-nCVyfCF-"
      },
      "source": [
        "### Positions"
      ]
    },
    {
      "cell_type": "code",
      "execution_count": null,
      "metadata": {
        "id": "eUBBAgAVfCF-"
      },
      "outputs": [],
      "source": [
        "# '/' not being supported for position calls\n",
        "symbol=\"BTCUSD\""
      ]
    },
    {
      "cell_type": "code",
      "execution_count": null,
      "metadata": {
        "id": "5Tq94jBGfCF-"
      },
      "outputs": [],
      "source": [
        "# get all open positions\n",
        "# ref. https://docs.alpaca.markets/reference/getallopenpositions-1\n",
        "positions = trade_client.get_all_positions()\n",
        "positions"
      ]
    },
    {
      "cell_type": "code",
      "execution_count": null,
      "metadata": {
        "id": "fJlBbEhRfCF-"
      },
      "outputs": [],
      "source": [
        "# get positions by symbol\n",
        "# ref. https://docs.alpaca.markets/reference/getopenposition-1\n",
        "position = trade_client.get_open_position(symbol_or_asset_id=symbol)\n",
        "position\n"
      ]
    },
    {
      "cell_type": "code",
      "execution_count": null,
      "metadata": {
        "id": "3aANCzcKfCF-"
      },
      "outputs": [],
      "source": [
        "# get positions by asset_id\n",
        "trade_client.get_open_position(symbol_or_asset_id=position.asset_id)"
      ]
    },
    {
      "cell_type": "code",
      "execution_count": null,
      "metadata": {
        "id": "VHJ-iRl7fCF-"
      },
      "outputs": [],
      "source": [
        "# close the position with specifying qty\n",
        "# ref. https://docs.alpaca.markets/reference/deleteopenposition-1\n",
        "trade_client.close_position(\n",
        "    symbol_or_asset_id = symbol,\n",
        "    close_options = ClosePositionRequest(\n",
        "        qty = \"0.01\",\n",
        "    )\n",
        ")"
      ]
    },
    {
      "cell_type": "markdown",
      "metadata": {
        "id": "ghhjCMtsfCF_"
      },
      "source": [
        "# Trade Update (Stream)"
      ]
    },
    {
      "cell_type": "markdown",
      "metadata": {
        "id": "C9dWcPOFfCF_"
      },
      "source": [
        "With TradingStream client, you can get updates about trades\n",
        "\n",
        "You can open this notebook in another window and run below cell to check trade updates."
      ]
    },
    {
      "cell_type": "code",
      "execution_count": null,
      "metadata": {
        "id": "EIZcY8XTfCF_"
      },
      "outputs": [],
      "source": [
        "# subscribe trade updates\n",
        "trade_stream_client = TradingStream(api_key, secret_key, paper=paper, url_override = trade_api_wss)\n",
        "\n",
        "async def trade_updates_handler(data):\n",
        "    print(data)\n",
        "\n",
        "trade_stream_client.subscribe_trade_updates(trade_updates_handler)\n",
        "trade_stream_client.run()"
      ]
    },
    {
      "cell_type": "markdown",
      "metadata": {
        "id": "vgv7T1OqfCF_"
      },
      "source": [
        "# Market Data (Historical)"
      ]
    },
    {
      "cell_type": "code",
      "execution_count": null,
      "metadata": {
        "id": "lEzx-zL1fCF_"
      },
      "outputs": [],
      "source": [
        "# setup crypto historical data client\n",
        "crypto_historical_data_client = CryptoHistoricalDataClient()\n",
        "\n",
        "symbol=\"BTC/USD\""
      ]
    },
    {
      "cell_type": "code",
      "execution_count": null,
      "metadata": {
        "id": "5nnq9kyhfCF_"
      },
      "outputs": [],
      "source": [
        "# get historical bars by symbol\n",
        "# ref. https://docs.alpaca.markets/reference/cryptobars-1\n",
        "now = datetime.now(ZoneInfo(\"America/New_York\"))\n",
        "req = CryptoBarsRequest(\n",
        "    symbol_or_symbols = [symbol],\n",
        "    timeframe=TimeFrame(amount = 1, unit = TimeFrameUnit.Hour), # specify timeframe\n",
        "    start = now - timedelta(days = 1),                          # specify start datetime, default=the beginning of the current day.\n",
        "    # end_date=None,                                        # specify end datetime, default=now\n",
        "    limit = 2,                                               # specify limit\n",
        ")\n",
        "crypto_historical_data_client.get_crypto_bars(req).df"
      ]
    },
    {
      "cell_type": "code",
      "execution_count": null,
      "metadata": {
        "id": "eVSPohTofCF_"
      },
      "outputs": [],
      "source": [
        "# get historical quote by symbol\n",
        "# ref. https://docs.alpaca.markets/reference/cryptoquotes-1\n",
        "now = datetime.now(ZoneInfo(\"America/New_York\"))\n",
        "req = CryptoQuoteRequest(\n",
        "    symbol_or_symbols = [symbol],\n",
        "    start = now - timedelta(days = 1),                          # specify start datetime, default=the beginning of the current day.\n",
        "    # end_date=None,                                        # specify end datetime, default=now\n",
        "    limit = 2,                                               # specify limit\n",
        ")\n",
        "crypto_historical_data_client.get_crypto_quotes(req).df"
      ]
    },
    {
      "cell_type": "code",
      "execution_count": null,
      "metadata": {
        "id": "357CDBaYfCF_"
      },
      "outputs": [],
      "source": [
        "# get historical trades by symbol\n",
        "req = CryptoTradesRequest(\n",
        "    symbol_or_symbols = [symbol],\n",
        "    start = now - timedelta(days = 1),                          # specify start datetime, default=the beginning of the current day.\n",
        "    # end=None,                                             # specify end datetime, default=now\n",
        "    limit = 2,                                                # specify limit\n",
        ")\n",
        "crypto_historical_data_client.get_crypto_trades(req).df"
      ]
    },
    {
      "cell_type": "code",
      "execution_count": null,
      "metadata": {
        "id": "DOm5W3_DfCF_"
      },
      "outputs": [],
      "source": [
        "# get latest quotes by symbol\n",
        "req = CryptoLatestQuoteRequest(\n",
        "    symbol_or_symbols = [symbol],\n",
        ")\n",
        "res = crypto_historical_data_client.get_crypto_latest_quote(req)\n",
        "res"
      ]
    }
  ],
  "metadata": {
    "kernelspec": {
      "display_name": ".venv",
      "language": "python",
      "name": "python3"
    },
    "language_info": {
      "codemirror_mode": {
        "name": "ipython",
        "version": 3
      },
      "file_extension": ".py",
      "mimetype": "text/x-python",
      "name": "python",
      "nbconvert_exporter": "python",
      "pygments_lexer": "ipython3",
      "version": "3.12.2"
    },
    "colab": {
      "provenance": []
    }
  },
  "nbformat": 4,
  "nbformat_minor": 0
}